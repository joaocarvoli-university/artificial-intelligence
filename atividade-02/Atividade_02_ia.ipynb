{
  "nbformat": 4,
  "nbformat_minor": 0,
  "metadata": {
    "colab": {
      "name": "Atividade-02-ia.ipynb",
      "provenance": [],
      "collapsed_sections": []
    },
    "kernelspec": {
      "name": "python3",
      "display_name": "Python 3"
    },
    "language_info": {
      "name": "python"
    }
  },
  "cells": [
    {
      "cell_type": "code",
      "metadata": {
        "id": "rP0EheCSIGh2"
      },
      "source": [
        "class Grafo:\n",
        "    def __init__(self, vertices ):\n",
        "        self.vertices = vertices\n",
        "        self.grafo = [[] for i in range(self.vertices)]\n",
        "\n",
        "    def adiciona_aresta(self, u, v, peso):\n",
        "        # lógica de grafo não direcionado\n",
        "        self.grafo[u - 1].append([v, peso]) # de u para v\n",
        "        self.grafo[v - 1].append([u, peso]) # de v para u\n",
        "\n",
        "\n",
        "    def mostra_lista(self):\n",
        "        for i in range(self.vertices):\n",
        "            print(f'{i+1}:', end=' ')\n",
        "            for j in self.grafo[i]:\n",
        "                print(f' {j} ->', end=' ')\n",
        "            print('')\n",
        "\n",
        "    def BSF(self, s):\n",
        "\n",
        "        visitados = [False] * len(self.grafo)\n",
        "        lista = []\n",
        "        lista.append(s)\n",
        "        visitados[s] = True\n",
        "\n",
        "        while lista:\n",
        "            s = lista.pop(0)\n",
        "            print(s, \" \")\n",
        "\n",
        "            for k in self.grafo[s]:\n",
        "                if visitados[k] == False:\n",
        "                    lista.append(i)\n",
        "                    visitados[k] == True"
      ],
      "execution_count": 37,
      "outputs": []
    },
    {
      "cell_type": "code",
      "metadata": {
        "colab": {
          "base_uri": "https://localhost:8080/"
        },
        "id": "O6HVtCx_ILeJ",
        "outputId": "104ae629-3aa5-4c5a-9da4-d4d4cf168455"
      },
      "source": [
        "# Instanciando o grafo\n",
        "g = Grafo(4)\n",
        "\n",
        "cities = list({1:'Zerind', 2:'Oradea', 3:'Oradea', 4:'Sibiu', 5:'Arad'}) \n",
        "\n",
        "# g.adiciona_aresta(1,2,3) - Grafo de 1 para 2 e 2 para 1 com peso 3\n",
        "g.adiciona_aresta(cities[0], cities[1], 5)\n",
        "g.adiciona_aresta(cities[0], cities[2], 7)\n",
        "g.adiciona_aresta(cities[0], cities[3], 6)\n",
        "g.adiciona_aresta(cities[3], cities[2], 9)\n",
        "\n",
        "g.mostra_lista()"
      ],
      "execution_count": 38,
      "outputs": [
        {
          "output_type": "stream",
          "name": "stdout",
          "text": [
            "1:  [2, 5] ->  [3, 7] ->  [4, 6] -> \n",
            "2:  [1, 5] -> \n",
            "3:  [1, 7] ->  [4, 9] -> \n",
            "4:  [1, 6] ->  [3, 9] -> \n"
          ]
        }
      ]
    },
    {
      "cell_type": "code",
      "metadata": {
        "colab": {
          "base_uri": "https://localhost:8080/"
        },
        "id": "9IHT5FUgH064",
        "outputId": "72add7a4-fe70-48b8-b175-bfdb3a56cabf"
      },
      "source": [
        "# Python3 program to implement single source\n",
        "# shortest path for a Binary Graph\n",
        "from sys import maxsize as INT_MAX\n",
        "from collections import deque\n",
        "\n",
        "# no.of vertices\n",
        "V = 4\n",
        "\n",
        "# a structure to represent edges\n",
        "class node:\n",
        "\tdef __init__(self, to, weight):\n",
        "\n",
        "\t\t# two variable one denote the node\n",
        "\t\t# and other the weight\n",
        "\t\tself.to = to\n",
        "\t\tself.weight = weight\n",
        "\n",
        "# vector to store edges\n",
        "edges = [0] * V\n",
        "for i in range(V):\n",
        "\tedges[i] = []\n",
        "\n",
        "# Prints shortest distance from\n",
        "# given source to every other vertex\n",
        "def zeroOneBFS(src: int):\n",
        "\n",
        "\t# Initialize distances from given source\n",
        "\tdist = [0] * V\n",
        "\tfor i in range(V):\n",
        "\t\tdist[i] = INT_MAX\n",
        "\n",
        "\t# double ende queue to do BFS.\n",
        "\tQ = deque()\n",
        "\tdist[src] = 0\n",
        "\tQ.append(src)\n",
        "\n",
        "\twhile Q:\n",
        "\t\tv = Q[0]\n",
        "\t\tQ.popleft()\n",
        "\n",
        "\t\tfor i in range(len(edges[v])):\n",
        "\n",
        "\t\t\t# checking for the optimal distance\n",
        "\t\t\tif (dist[edges[v][i].to] >\n",
        "\t\t\t\tdist[v] + edges[v][i].weight):\n",
        "\t\t\t\tdist[edges[v][i].to] = dist[v] + edges[v][i].weight\n",
        "\n",
        "\t\t\t\t# Put 0 weight edges to front and 1 weight\n",
        "\t\t\t\t# edges to back so that vertices are processed\n",
        "\t\t\t\t# in increasing order of weights.\n",
        "\t\t\t\tif edges[v][i].weight == 0:\n",
        "\t\t\t\t\tQ.appendleft(edges[v][i].to)\n",
        "\t\t\t\telse:\n",
        "\t\t\t\t\tQ.append(edges[v][i].to)\n",
        "\n",
        "\t# printing the shortest distances\n",
        "\tfor i in range(V):\n",
        "\t\tprint(dist[i], end = \" \")\n",
        "\tprint()\n",
        "\n",
        "def addEdge(u: int, v: int, wt: int):\n",
        "\tedges[u].append(node(v, wt))\n",
        "\tedges[u].append(node(v, wt))\n",
        "\n",
        "# Driver Code\n",
        "if __name__ == \"__main__\":\n",
        "\n",
        "    # g.adiciona_aresta(1,2,3) - Grafo de 1 para 2 e 2 para 1 com peso 3\n",
        "    addEdge(cities[0], cities[1], 5)\n",
        "    addEdge(cities[0], cities[2], 7)\n",
        "    addEdge(cities[0], cities[3], 6)\n",
        "    addEdge(cities[3], cities[2], 9)\n",
        "\t\n",
        "    # source node\n",
        "    src = 0\n",
        "    zeroOneBFS(src)\n",
        "\n",
        "# This code is contributed by\n",
        "# sanjeev2552"
      ],
      "execution_count": 65,
      "outputs": [
        {
          "output_type": "stream",
          "name": "stdout",
          "text": [
            "0 1 0 1 \n"
          ]
        }
      ]
    },
    {
      "cell_type": "code",
      "metadata": {
        "id": "f2Xd4MuCIjNk"
      },
      "source": [
        "cities = list({0:'Zerind', 1:'Oradea', 2:'Oradea', 3:'Sibiu', 4:'Arad'}) "
      ],
      "execution_count": 52,
      "outputs": []
    },
    {
      "cell_type": "code",
      "metadata": {
        "id": "H42A57KuLxLa"
      },
      "source": [
        ""
      ],
      "execution_count": null,
      "outputs": []
    }
  ]
}