{
  "cells": [
    {
      "cell_type": "code",
      "execution_count": 37,
      "metadata": {
        "id": "rP0EheCSIGh2"
      },
      "outputs": [],
      "source": [
        "class Grafo:\n",
        "    def __init__(self, vertices ):\n",
        "        self.vertices = vertices\n",
        "        self.grafo = [[] for i in range(self.vertices)]\n",
        "\n",
        "    def adiciona_aresta(self, u, v, peso):\n",
        "        # lógica de grafo não direcionado\n",
        "        self.grafo[u - 1].append([v, peso]) # de u para v\n",
        "        self.grafo[v - 1].append([u, peso]) # de v para u\n",
        "\n",
        "    def BSF(self, s):\n",
        "\n",
        "        visitados = [False] * len(self.grafo)\n",
        "        lista = []\n",
        "        lista.append(s)\n",
        "        visitados[s] = True\n",
        "\n",
        "        while lista:\n",
        "            s = lista.pop(0)\n",
        "            print(s, \" \")\n",
        "\n",
        "            for k in self.grafo[s]:\n",
        "                if visitados[k] == False:\n",
        "                    lista.append(i)\n",
        "                    visitados[k] == True"
      ]
    },
    {
      "cell_type": "code",
      "execution_count": 38,
      "metadata": {
        "colab": {
          "base_uri": "https://localhost:8080/"
        },
        "id": "O6HVtCx_ILeJ",
        "outputId": "104ae629-3aa5-4c5a-9da4-d4d4cf168455"
      },
      "outputs": [
        {
          "name": "stdout",
          "output_type": "stream",
          "text": [
            "1:  [2, 5] ->  [3, 7] ->  [4, 6] -> \n",
            "2:  [1, 5] -> \n",
            "3:  [1, 7] ->  [4, 9] -> \n",
            "4:  [1, 6] ->  [3, 9] -> \n"
          ]
        }
      ],
      "source": [
        "# Instanciando o grafo\n",
        "g = Grafo(4)\n",
        "\n",
        "cities = list({1:'Zerind', 2:'Oradea', 3:'Oradea', 4:'Sibiu', 5:'Arad'}) \n",
        "\n",
        "# g.adiciona_aresta(1,2,3) - Grafo de 1 para 2 e 2 para 1 com peso 3\n",
        "g.adiciona_aresta(cities[0], cities[1], 5)\n",
        "g.adiciona_aresta(cities[0], cities[2], 7)\n",
        "g.adiciona_aresta(cities[0], cities[3], 6)\n",
        "g.adiciona_aresta(cities[3], cities[2], 9)\n",
        "\n",
        "g.mostra_lista()"
      ]
    },
    {
      "cell_type": "code",
      "execution_count": 52,
      "metadata": {
        "id": "f2Xd4MuCIjNk"
      },
      "outputs": [],
      "source": [
        "cities = list({0:'Zerind', 1:'Oradea', 2:'Oradea', 3:'Sibiu', 4:'Arad'}) "
      ]
    }
  ],
  "metadata": {
    "colab": {
      "collapsed_sections": [],
      "name": "Atividade-02-ia.ipynb",
      "provenance": []
    },
    "kernelspec": {
      "display_name": "Python 3",
      "name": "python3"
    },
    "language_info": {
      "name": "python"
    }
  },
  "nbformat": 4,
  "nbformat_minor": 0
}
